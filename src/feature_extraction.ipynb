{
 "cells": [
  {
   "cell_type": "code",
   "execution_count": 1,
   "id": "irish-virtue",
   "metadata": {},
   "outputs": [],
   "source": [
    "import datetime\n",
    "import numpy as np\n",
    "import pandas as pd\n",
    "from sklearn.preprocessing import MultiLabelBinarizer\n",
    "\n",
    "pd.options.display.max_rows = 4000"
   ]
  },
  {
   "cell_type": "code",
   "execution_count": 2,
   "id": "civilian-throat",
   "metadata": {},
   "outputs": [],
   "source": [
    "df = pd.read_json('../data/animes_raw.json')"
   ]
  },
  {
   "cell_type": "code",
   "execution_count": null,
   "id": "solid-agriculture",
   "metadata": {},
   "outputs": [],
   "source": []
  },
  {
   "cell_type": "code",
   "execution_count": 3,
   "id": "bottom-float",
   "metadata": {},
   "outputs": [],
   "source": [
    "# remocao de features nao relevantes\n",
    "to_drop = ['request_hash', 'url', 'image_url', 'trailer_url', 'related', 'title',\n",
    "          'title_english', 'title_japanese', 'title_synonyms', 'opening_themes',\n",
    "          'ending_themes', 'synopsis']\n",
    "df = df.drop(to_drop, axis=1)"
   ]
  },
  {
   "cell_type": "code",
   "execution_count": null,
   "id": "hairy-guitar",
   "metadata": {},
   "outputs": [],
   "source": []
  },
  {
   "cell_type": "code",
   "execution_count": 4,
   "id": "received-nothing",
   "metadata": {},
   "outputs": [],
   "source": [
    "# altera de bool para binario\n",
    "df.loc[:,'request_cached'] = df.loc[:,'request_cached'].map({True:1, False:0})"
   ]
  },
  {
   "cell_type": "code",
   "execution_count": null,
   "id": "single-hacker",
   "metadata": {},
   "outputs": [],
   "source": []
  },
  {
   "cell_type": "code",
   "execution_count": 5,
   "id": "educated-circle",
   "metadata": {},
   "outputs": [
    {
     "data": {
      "text/plain": [
       "TV         3267\n",
       "OVA        1451\n",
       "Movie      1357\n",
       "Special    1313\n",
       "ONA         537\n",
       "Music       267\n",
       "Name: type, dtype: int64"
      ]
     },
     "execution_count": 5,
     "metadata": {},
     "output_type": "execute_result"
    }
   ],
   "source": [
    "df['type'].value_counts()"
   ]
  },
  {
   "cell_type": "code",
   "execution_count": 6,
   "id": "floral-developer",
   "metadata": {},
   "outputs": [],
   "source": [
    "# One-Hot Encoding\n",
    "df = pd.concat([df, pd.get_dummies(df['type'], prefix='type')], axis=1)\n",
    "df = df.drop(['type'], axis=1)"
   ]
  },
  {
   "cell_type": "code",
   "execution_count": null,
   "id": "dirty-colorado",
   "metadata": {},
   "outputs": [],
   "source": []
  },
  {
   "cell_type": "code",
   "execution_count": 7,
   "id": "weekly-friday",
   "metadata": {},
   "outputs": [
    {
     "data": {
      "text/plain": [
       "Manga            2677\n",
       "Original         1924\n",
       "Unknown          1119\n",
       "Light novel       642\n",
       "Game              531\n",
       "Visual novel      329\n",
       "Novel             266\n",
       "4-koma manga      212\n",
       "Other             175\n",
       "Web manga         142\n",
       "Music              65\n",
       "Book               46\n",
       "Card game          36\n",
       "Picture book       15\n",
       "Digital manga       8\n",
       "Radio               5\n",
       "Name: source, dtype: int64"
      ]
     },
     "execution_count": 7,
     "metadata": {},
     "output_type": "execute_result"
    }
   ],
   "source": [
    "df['source'].value_counts()"
   ]
  },
  {
   "cell_type": "code",
   "execution_count": 8,
   "id": "simple-devices",
   "metadata": {},
   "outputs": [],
   "source": [
    "# exclusao de categorias menos significativas (<330 ocorrencias)\n",
    "df.loc[:,'source'] = df.loc[:,'source'].replace(['Visual novel', 'Novel', '4-koma manga', 'Web manga',\n",
    "                                                 'Music', 'Book', 'Card game', 'Picture book', 'Radio',\n",
    "                                                 'Digital manga'], 'Other')\n",
    "# One-Hot Encoding\n",
    "df = pd.concat([df, pd.get_dummies(df['source'], prefix='source')], axis=1)\n",
    "df = df.drop(['source'], axis=1)"
   ]
  },
  {
   "cell_type": "code",
   "execution_count": null,
   "id": "herbal-humanity",
   "metadata": {},
   "outputs": [],
   "source": []
  },
  {
   "cell_type": "code",
   "execution_count": 9,
   "id": "pressed-billion",
   "metadata": {},
   "outputs": [
    {
     "data": {
      "text/plain": [
       "Finished Airing     8156\n",
       "Currently Airing      36\n",
       "Name: status, dtype: int64"
      ]
     },
     "execution_count": 9,
     "metadata": {},
     "output_type": "execute_result"
    }
   ],
   "source": [
    "df['status'].value_counts()"
   ]
  },
  {
   "cell_type": "code",
   "execution_count": 10,
   "id": "prepared-clarity",
   "metadata": {},
   "outputs": [],
   "source": [
    "# altera para binario\n",
    "df.loc[:,'status'] = df.loc[:,'status'].map({'Finished Airing':1, 'Currently Airing':0})"
   ]
  },
  {
   "cell_type": "code",
   "execution_count": null,
   "id": "standing-effort",
   "metadata": {},
   "outputs": [],
   "source": []
  },
  {
   "cell_type": "code",
   "execution_count": 11,
   "id": "critical-adaptation",
   "metadata": {},
   "outputs": [],
   "source": [
    "# altera de bool para binario\n",
    "df.loc[:,'airing'] = df.loc[:,'airing'].map({True:1, False:0})"
   ]
  },
  {
   "cell_type": "code",
   "execution_count": null,
   "id": "exclusive-provider",
   "metadata": {},
   "outputs": [],
   "source": []
  },
  {
   "cell_type": "code",
   "execution_count": 12,
   "id": "consistent-somewhere",
   "metadata": {},
   "outputs": [],
   "source": [
    "# extracao de informacoes da data de 'from'\n",
    "df['from_day'] = 0\n",
    "df['from_month'] = 0\n",
    "df['from_year'] = 0\n",
    "df['from_dayofyear'] = 0\n",
    "df['from_dayofweek'] = 0\n",
    "# extracao de informacoes da data de 'to'\n",
    "df['to_day'] = 0\n",
    "df['to_month'] = 0\n",
    "df['to_year'] = 0\n",
    "df['to_dayofyear'] = 0\n",
    "df['to_dayofweek'] = 0\n",
    "\n",
    "for i in range(df.shape[0]):\n",
    "    if df['aired'][i]['from'] != None:  # data de inicio\n",
    "        date = datetime.datetime.strptime(df['aired'][i]['from'].split('T')[0], '%Y-%m-%d')\n",
    "        df.loc[i,'from_day'] = date.day\n",
    "        df.loc[i,'from_month'] = date.month\n",
    "        df.loc[i,'from_year'] = date.year\n",
    "        date = date.timetuple()\n",
    "        df.loc[i,'from_dayofyear'] = date.tm_yday\n",
    "        df.loc[i,'from_dayofweek'] = date.tm_wday\n",
    "        \n",
    "    if df['aired'][i]['to'] != None:  # data de termino\n",
    "        date = datetime.datetime.strptime(df['aired'][i]['to'].split('T')[0], '%Y-%m-%d')\n",
    "        df.loc[i,'to_day'] = date.day\n",
    "        df.loc[i,'to_month'] = date.month\n",
    "        df.loc[i,'to_year'] = date.year\n",
    "        date = date.timetuple()\n",
    "        df.loc[i,'to_dayofyear'] = date.tm_yday\n",
    "        df.loc[i,'to_dayofweek'] = date.tm_wday    \n",
    "        \n",
    "df = df.drop(['aired'], axis=1)"
   ]
  },
  {
   "cell_type": "code",
   "execution_count": null,
   "id": "orange-member",
   "metadata": {},
   "outputs": [],
   "source": []
  },
  {
   "cell_type": "code",
   "execution_count": 13,
   "id": "cloudy-worcester",
   "metadata": {},
   "outputs": [],
   "source": [
    "# extracao de informacoes de 'duration'\n",
    "df['duration_hour'] = 0\n",
    "df['duration_minutes'] = 0\n",
    "df['duration_seconds'] = 0\n",
    "df['duration_per_episode'] = 0\n",
    "\n",
    "for i in range(df.shape[0]):\n",
    "    time = df['duration'][i]  # checa se eh duracao por episodio\n",
    "    if time[(len(time)-6):] == 'per ep':\n",
    "        df.loc[i,'duration_per_episode'] = 1\n",
    "        time = time[:(len(time)-7)]\n",
    "        \n",
    "    time = time.split('hr')  # checa a parcela de horas da duracao\n",
    "    if len(time) > 1:\n",
    "        df.loc[i,'duration_hour'] = int(time[0])\n",
    "        time = time[1]\n",
    "    else: time = time[0]\n",
    "    \n",
    "    time = time.split('min')  # checa a parcela de minutos da duracao\n",
    "    if len(time) > 1:\n",
    "        df.loc[i,'duration_minutes'] = int(time[0])\n",
    "        time = time[1]\n",
    "    else: time = time[0]\n",
    "        \n",
    "    time = time.split('sec')  # checa a parcela de segundos da duracao\n",
    "    if len(time) > 1:\n",
    "        df.loc[i,'duration_seconds'] = int(time[0])\n",
    "        time = time[1]\n",
    "    else: time = time[0]\n",
    "\n",
    "df = df.drop(['duration'], axis=1)"
   ]
  },
  {
   "cell_type": "code",
   "execution_count": null,
   "id": "danish-river",
   "metadata": {},
   "outputs": [],
   "source": []
  },
  {
   "cell_type": "code",
   "execution_count": 14,
   "id": "upper-major",
   "metadata": {},
   "outputs": [],
   "source": [
    "# One-Hot Encoding\n",
    "df = pd.concat([df, pd.get_dummies(df['rating'], prefix='rating')], axis=1)\n",
    "df = df.drop(['rating'], axis=1)"
   ]
  },
  {
   "cell_type": "code",
   "execution_count": null,
   "id": "hazardous-racing",
   "metadata": {},
   "outputs": [],
   "source": []
  },
  {
   "cell_type": "code",
   "execution_count": 15,
   "id": "executive-empire",
   "metadata": {},
   "outputs": [],
   "source": [
    "# exapandindo a feature\n",
    "spl = df['premiered'].str.split(' ', expand=True)\n",
    "spl.columns = ['season', 'year']\n",
    "# aplicacao de One-Hot Encoding\n",
    "spl = pd.concat([spl, pd.get_dummies(spl['season'], prefix='season')], axis=1)\n",
    "spl = spl.drop(['season'], axis=1).fillna(value=0).astype('int64')\n",
    "df = pd.concat([df,spl], axis=1)\n",
    "df = df.drop(['premiered'], axis=1)\n",
    "del spl"
   ]
  },
  {
   "cell_type": "code",
   "execution_count": null,
   "id": "selective-chamber",
   "metadata": {},
   "outputs": [],
   "source": []
  },
  {
   "cell_type": "code",
   "execution_count": 16,
   "id": "chinese-exclusive",
   "metadata": {},
   "outputs": [],
   "source": [
    "df['broadcast_day'] = 'n'\n",
    "df['broadcast_hour'] = 0\n",
    "df['broadcast_minute'] = 0\n",
    "\n",
    "for i in range(df.shape[0]):\n",
    "    bc = df['broadcast'][i]\n",
    "    \n",
    "    if ((bc!=None) & (bc!='Unknown')) & (bc!='Not scheduled once per week'):\n",
    "        bc = bc.split(' at ')\n",
    "        df.loc[i,'broadcast_day'] = bc[0]  # atribui o dia do broadcast\n",
    "        \n",
    "        if bc[1]!='Unknown':\n",
    "            bc = bc[1].split(' ')[0].split(':')\n",
    "            df.loc[i,'broadcast_hour'] = int(bc[0])\n",
    "            df.loc[i,'broadcast_minute'] = int(bc[1])\n",
    "            \n",
    "# One-Hot Encoding\n",
    "df = pd.concat([df, pd.get_dummies(df['broadcast_day'], prefix='broadcast_day')], axis=1)\n",
    "df = df.drop(['broadcast', 'broadcast_day'], axis=1)"
   ]
  },
  {
   "cell_type": "code",
   "execution_count": null,
   "id": "binding-universal",
   "metadata": {},
   "outputs": [],
   "source": []
  },
  {
   "cell_type": "code",
   "execution_count": 17,
   "id": "dated-token",
   "metadata": {},
   "outputs": [],
   "source": [
    "def applyTreatment(df, feature, n=20):\n",
    "    n_producers = 20\n",
    "\n",
    "    producers = []\n",
    "    all_producers = []\n",
    "    for i in range(df.shape[0]):\n",
    "        lst = []\n",
    "        for j in range(len(df[feature][i])):\n",
    "            lst.append(df[feature][i][j]['name'])\n",
    "            all_producers.append(df[feature][i][j]['name'])\n",
    "        producers.append(lst)\n",
    "\n",
    "    unique, counts = np.unique(all_producers, return_counts=True)\n",
    "    occurences = dict(zip(unique, counts))\n",
    "    occurences = sorted(occurences.items(), key = lambda kv:(kv[1], kv[0]), reverse=True)\n",
    "    occurences = occurences[n_producers:]\n",
    "\n",
    "    others = []\n",
    "    for i in occurences:\n",
    "        others.append(i[0])\n",
    "\n",
    "    for i in range(len(producers)):\n",
    "        tag = False\n",
    "        to_remove = []\n",
    "        for j in range(len(producers[i])):\n",
    "            if producers[i][j] in others:\n",
    "                to_remove.append(producers[i][j])\n",
    "                tag = True\n",
    "        for j in to_remove: producers[i].remove(j)\n",
    "        if tag: producers[i].append('Others')\n",
    "\n",
    "    one_hot = MultiLabelBinarizer()\n",
    "    producers = one_hot.fit_transform(producers)\n",
    "\n",
    "    columns = []\n",
    "    for i in one_hot.classes_:\n",
    "        columns.append(feature+'_'+i)\n",
    "    producers = pd.DataFrame(data=producers, columns=columns)\n",
    "\n",
    "    df = pd.concat([df,producers], axis=1)\n",
    "    df = df.drop([feature], axis=1)\n",
    "    \n",
    "    return df"
   ]
  },
  {
   "cell_type": "code",
   "execution_count": 18,
   "id": "missing-assist",
   "metadata": {},
   "outputs": [],
   "source": [
    "df = applyTreatment(df, feature='producers')\n",
    "df = applyTreatment(df, feature='licensors')\n",
    "df = applyTreatment(df, feature='studios')\n",
    "df = applyTreatment(df, feature='genres')"
   ]
  },
  {
   "cell_type": "code",
   "execution_count": null,
   "id": "pharmaceutical-creature",
   "metadata": {},
   "outputs": [],
   "source": []
  },
  {
   "cell_type": "code",
   "execution_count": 19,
   "id": "finished-provision",
   "metadata": {},
   "outputs": [
    {
     "ename": "ValueError",
     "evalue": "could not convert string to float: 'In the year 2071, humanity has colonized several of the planets and moons of the solar system leaving the now uninhabitable surface of planet Earth behind. The Inter Solar System Police attempts to keep peace in the galaxy, aided in part by outlaw bounty hunters, referred to as \"Cowboys.\" The ragtag team aboard the spaceship Bebop are two such individuals. Mellow and carefree Spike Spiegel is balanced by his boisterous, pragmatic partner Jet Black as the pair makes a living chasing bounties and collecting rewards. Thrown off course by the addition of new members that they meet in their travels—Ein, a genetically engineered, highly intelligent Welsh Corgi; femme fatale Faye Valentine, an enigmatic trickster with memory loss; and the strange computer whiz kid Edward Wong—the crew embarks on thrilling adventures that unravel each member\\'s dark and mysterious past little by little. Well-balanced with high density action and light-hearted comedy, Cowboy Bebop is a space Western classic and an homage to the smooth and improvised music it is named after. [Written by MAL Rewrite]'",
     "output_type": "error",
     "traceback": [
      "\u001b[0;31m---------------------------------------------------------------------------\u001b[0m",
      "\u001b[0;31mValueError\u001b[0m                                Traceback (most recent call last)",
      "\u001b[0;32m<ipython-input-19-f836ecd08921>\u001b[0m in \u001b[0;36m<module>\u001b[0;34m\u001b[0m\n\u001b[0;32m----> 1\u001b[0;31m \u001b[0mdf\u001b[0m\u001b[0;34m.\u001b[0m\u001b[0mastype\u001b[0m\u001b[0;34m(\u001b[0m\u001b[0;34m'float64'\u001b[0m\u001b[0;34m)\u001b[0m\u001b[0;34m\u001b[0m\u001b[0;34m\u001b[0m\u001b[0m\n\u001b[0m",
      "\u001b[0;32m~/opt/anaconda3/envs/python38/lib/python3.8/site-packages/pandas/core/generic.py\u001b[0m in \u001b[0;36mastype\u001b[0;34m(self, dtype, copy, errors)\u001b[0m\n\u001b[1;32m   5872\u001b[0m         \u001b[0;32melse\u001b[0m\u001b[0;34m:\u001b[0m\u001b[0;34m\u001b[0m\u001b[0;34m\u001b[0m\u001b[0m\n\u001b[1;32m   5873\u001b[0m             \u001b[0;31m# else, only a single dtype is given\u001b[0m\u001b[0;34m\u001b[0m\u001b[0;34m\u001b[0m\u001b[0;34m\u001b[0m\u001b[0m\n\u001b[0;32m-> 5874\u001b[0;31m             \u001b[0mnew_data\u001b[0m \u001b[0;34m=\u001b[0m \u001b[0mself\u001b[0m\u001b[0;34m.\u001b[0m\u001b[0m_mgr\u001b[0m\u001b[0;34m.\u001b[0m\u001b[0mastype\u001b[0m\u001b[0;34m(\u001b[0m\u001b[0mdtype\u001b[0m\u001b[0;34m=\u001b[0m\u001b[0mdtype\u001b[0m\u001b[0;34m,\u001b[0m \u001b[0mcopy\u001b[0m\u001b[0;34m=\u001b[0m\u001b[0mcopy\u001b[0m\u001b[0;34m,\u001b[0m \u001b[0merrors\u001b[0m\u001b[0;34m=\u001b[0m\u001b[0merrors\u001b[0m\u001b[0;34m)\u001b[0m\u001b[0;34m\u001b[0m\u001b[0;34m\u001b[0m\u001b[0m\n\u001b[0m\u001b[1;32m   5875\u001b[0m             \u001b[0;32mreturn\u001b[0m \u001b[0mself\u001b[0m\u001b[0;34m.\u001b[0m\u001b[0m_constructor\u001b[0m\u001b[0;34m(\u001b[0m\u001b[0mnew_data\u001b[0m\u001b[0;34m)\u001b[0m\u001b[0;34m.\u001b[0m\u001b[0m__finalize__\u001b[0m\u001b[0;34m(\u001b[0m\u001b[0mself\u001b[0m\u001b[0;34m,\u001b[0m \u001b[0mmethod\u001b[0m\u001b[0;34m=\u001b[0m\u001b[0;34m\"astype\"\u001b[0m\u001b[0;34m)\u001b[0m\u001b[0;34m\u001b[0m\u001b[0;34m\u001b[0m\u001b[0m\n\u001b[1;32m   5876\u001b[0m \u001b[0;34m\u001b[0m\u001b[0m\n",
      "\u001b[0;32m~/opt/anaconda3/envs/python38/lib/python3.8/site-packages/pandas/core/internals/managers.py\u001b[0m in \u001b[0;36mastype\u001b[0;34m(self, dtype, copy, errors)\u001b[0m\n\u001b[1;32m    629\u001b[0m         \u001b[0mself\u001b[0m\u001b[0;34m,\u001b[0m \u001b[0mdtype\u001b[0m\u001b[0;34m,\u001b[0m \u001b[0mcopy\u001b[0m\u001b[0;34m:\u001b[0m \u001b[0mbool\u001b[0m \u001b[0;34m=\u001b[0m \u001b[0;32mFalse\u001b[0m\u001b[0;34m,\u001b[0m \u001b[0merrors\u001b[0m\u001b[0;34m:\u001b[0m \u001b[0mstr\u001b[0m \u001b[0;34m=\u001b[0m \u001b[0;34m\"raise\"\u001b[0m\u001b[0;34m\u001b[0m\u001b[0;34m\u001b[0m\u001b[0m\n\u001b[1;32m    630\u001b[0m     ) -> \"BlockManager\":\n\u001b[0;32m--> 631\u001b[0;31m         \u001b[0;32mreturn\u001b[0m \u001b[0mself\u001b[0m\u001b[0;34m.\u001b[0m\u001b[0mapply\u001b[0m\u001b[0;34m(\u001b[0m\u001b[0;34m\"astype\"\u001b[0m\u001b[0;34m,\u001b[0m \u001b[0mdtype\u001b[0m\u001b[0;34m=\u001b[0m\u001b[0mdtype\u001b[0m\u001b[0;34m,\u001b[0m \u001b[0mcopy\u001b[0m\u001b[0;34m=\u001b[0m\u001b[0mcopy\u001b[0m\u001b[0;34m,\u001b[0m \u001b[0merrors\u001b[0m\u001b[0;34m=\u001b[0m\u001b[0merrors\u001b[0m\u001b[0;34m)\u001b[0m\u001b[0;34m\u001b[0m\u001b[0;34m\u001b[0m\u001b[0m\n\u001b[0m\u001b[1;32m    632\u001b[0m \u001b[0;34m\u001b[0m\u001b[0m\n\u001b[1;32m    633\u001b[0m     def convert(\n",
      "\u001b[0;32m~/opt/anaconda3/envs/python38/lib/python3.8/site-packages/pandas/core/internals/managers.py\u001b[0m in \u001b[0;36mapply\u001b[0;34m(self, f, align_keys, ignore_failures, **kwargs)\u001b[0m\n\u001b[1;32m    425\u001b[0m                     \u001b[0mapplied\u001b[0m \u001b[0;34m=\u001b[0m \u001b[0mb\u001b[0m\u001b[0;34m.\u001b[0m\u001b[0mapply\u001b[0m\u001b[0;34m(\u001b[0m\u001b[0mf\u001b[0m\u001b[0;34m,\u001b[0m \u001b[0;34m**\u001b[0m\u001b[0mkwargs\u001b[0m\u001b[0;34m)\u001b[0m\u001b[0;34m\u001b[0m\u001b[0;34m\u001b[0m\u001b[0m\n\u001b[1;32m    426\u001b[0m                 \u001b[0;32melse\u001b[0m\u001b[0;34m:\u001b[0m\u001b[0;34m\u001b[0m\u001b[0;34m\u001b[0m\u001b[0m\n\u001b[0;32m--> 427\u001b[0;31m                     \u001b[0mapplied\u001b[0m \u001b[0;34m=\u001b[0m \u001b[0mgetattr\u001b[0m\u001b[0;34m(\u001b[0m\u001b[0mb\u001b[0m\u001b[0;34m,\u001b[0m \u001b[0mf\u001b[0m\u001b[0;34m)\u001b[0m\u001b[0;34m(\u001b[0m\u001b[0;34m**\u001b[0m\u001b[0mkwargs\u001b[0m\u001b[0;34m)\u001b[0m\u001b[0;34m\u001b[0m\u001b[0;34m\u001b[0m\u001b[0m\n\u001b[0m\u001b[1;32m    428\u001b[0m             \u001b[0;32mexcept\u001b[0m \u001b[0;34m(\u001b[0m\u001b[0mTypeError\u001b[0m\u001b[0;34m,\u001b[0m \u001b[0mNotImplementedError\u001b[0m\u001b[0;34m)\u001b[0m\u001b[0;34m:\u001b[0m\u001b[0;34m\u001b[0m\u001b[0;34m\u001b[0m\u001b[0m\n\u001b[1;32m    429\u001b[0m                 \u001b[0;32mif\u001b[0m \u001b[0;32mnot\u001b[0m \u001b[0mignore_failures\u001b[0m\u001b[0;34m:\u001b[0m\u001b[0;34m\u001b[0m\u001b[0;34m\u001b[0m\u001b[0m\n",
      "\u001b[0;32m~/opt/anaconda3/envs/python38/lib/python3.8/site-packages/pandas/core/internals/blocks.py\u001b[0m in \u001b[0;36mastype\u001b[0;34m(self, dtype, copy, errors)\u001b[0m\n\u001b[1;32m    671\u001b[0m             \u001b[0mvals1d\u001b[0m \u001b[0;34m=\u001b[0m \u001b[0mvalues\u001b[0m\u001b[0;34m.\u001b[0m\u001b[0mravel\u001b[0m\u001b[0;34m(\u001b[0m\u001b[0;34m)\u001b[0m\u001b[0;34m\u001b[0m\u001b[0;34m\u001b[0m\u001b[0m\n\u001b[1;32m    672\u001b[0m             \u001b[0;32mtry\u001b[0m\u001b[0;34m:\u001b[0m\u001b[0;34m\u001b[0m\u001b[0;34m\u001b[0m\u001b[0m\n\u001b[0;32m--> 673\u001b[0;31m                 \u001b[0mvalues\u001b[0m \u001b[0;34m=\u001b[0m \u001b[0mastype_nansafe\u001b[0m\u001b[0;34m(\u001b[0m\u001b[0mvals1d\u001b[0m\u001b[0;34m,\u001b[0m \u001b[0mdtype\u001b[0m\u001b[0;34m,\u001b[0m \u001b[0mcopy\u001b[0m\u001b[0;34m=\u001b[0m\u001b[0;32mTrue\u001b[0m\u001b[0;34m)\u001b[0m\u001b[0;34m\u001b[0m\u001b[0;34m\u001b[0m\u001b[0m\n\u001b[0m\u001b[1;32m    674\u001b[0m             \u001b[0;32mexcept\u001b[0m \u001b[0;34m(\u001b[0m\u001b[0mValueError\u001b[0m\u001b[0;34m,\u001b[0m \u001b[0mTypeError\u001b[0m\u001b[0;34m)\u001b[0m\u001b[0;34m:\u001b[0m\u001b[0;34m\u001b[0m\u001b[0;34m\u001b[0m\u001b[0m\n\u001b[1;32m    675\u001b[0m                 \u001b[0;31m# e.g. astype_nansafe can fail on object-dtype of strings\u001b[0m\u001b[0;34m\u001b[0m\u001b[0;34m\u001b[0m\u001b[0;34m\u001b[0m\u001b[0m\n",
      "\u001b[0;32m~/opt/anaconda3/envs/python38/lib/python3.8/site-packages/pandas/core/dtypes/cast.py\u001b[0m in \u001b[0;36mastype_nansafe\u001b[0;34m(arr, dtype, copy, skipna)\u001b[0m\n\u001b[1;32m   1095\u001b[0m     \u001b[0;32mif\u001b[0m \u001b[0mcopy\u001b[0m \u001b[0;32mor\u001b[0m \u001b[0mis_object_dtype\u001b[0m\u001b[0;34m(\u001b[0m\u001b[0marr\u001b[0m\u001b[0;34m)\u001b[0m \u001b[0;32mor\u001b[0m \u001b[0mis_object_dtype\u001b[0m\u001b[0;34m(\u001b[0m\u001b[0mdtype\u001b[0m\u001b[0;34m)\u001b[0m\u001b[0;34m:\u001b[0m\u001b[0;34m\u001b[0m\u001b[0;34m\u001b[0m\u001b[0m\n\u001b[1;32m   1096\u001b[0m         \u001b[0;31m# Explicit copy, or required since NumPy can't view from / to object.\u001b[0m\u001b[0;34m\u001b[0m\u001b[0;34m\u001b[0m\u001b[0;34m\u001b[0m\u001b[0m\n\u001b[0;32m-> 1097\u001b[0;31m         \u001b[0;32mreturn\u001b[0m \u001b[0marr\u001b[0m\u001b[0;34m.\u001b[0m\u001b[0mastype\u001b[0m\u001b[0;34m(\u001b[0m\u001b[0mdtype\u001b[0m\u001b[0;34m,\u001b[0m \u001b[0mcopy\u001b[0m\u001b[0;34m=\u001b[0m\u001b[0;32mTrue\u001b[0m\u001b[0;34m)\u001b[0m\u001b[0;34m\u001b[0m\u001b[0;34m\u001b[0m\u001b[0m\n\u001b[0m\u001b[1;32m   1098\u001b[0m \u001b[0;34m\u001b[0m\u001b[0m\n\u001b[1;32m   1099\u001b[0m     \u001b[0;32mreturn\u001b[0m \u001b[0marr\u001b[0m\u001b[0;34m.\u001b[0m\u001b[0mview\u001b[0m\u001b[0;34m(\u001b[0m\u001b[0mdtype\u001b[0m\u001b[0;34m)\u001b[0m\u001b[0;34m\u001b[0m\u001b[0;34m\u001b[0m\u001b[0m\n",
      "\u001b[0;31mValueError\u001b[0m: could not convert string to float: 'In the year 2071, humanity has colonized several of the planets and moons of the solar system leaving the now uninhabitable surface of planet Earth behind. The Inter Solar System Police attempts to keep peace in the galaxy, aided in part by outlaw bounty hunters, referred to as \"Cowboys.\" The ragtag team aboard the spaceship Bebop are two such individuals. Mellow and carefree Spike Spiegel is balanced by his boisterous, pragmatic partner Jet Black as the pair makes a living chasing bounties and collecting rewards. Thrown off course by the addition of new members that they meet in their travels—Ein, a genetically engineered, highly intelligent Welsh Corgi; femme fatale Faye Valentine, an enigmatic trickster with memory loss; and the strange computer whiz kid Edward Wong—the crew embarks on thrilling adventures that unravel each member\\'s dark and mysterious past little by little. Well-balanced with high density action and light-hearted comedy, Cowboy Bebop is a space Western classic and an homage to the smooth and improvised music it is named after. [Written by MAL Rewrite]'"
     ]
    }
   ],
   "source": [
    "df.astype('float64')"
   ]
  },
  {
   "cell_type": "code",
   "execution_count": 20,
   "id": "revolutionary-inquiry",
   "metadata": {},
   "outputs": [
    {
     "data": {
      "text/plain": [
       "request_cached                                   int64\n",
       "request_cache_expiry                             int64\n",
       "mal_id                                           int64\n",
       "episodes                                       float64\n",
       "status                                           int64\n",
       "airing                                           int64\n",
       "score                                          float64\n",
       "scored_by                                        int64\n",
       "rank                                           float64\n",
       "popularity                                       int64\n",
       "members                                          int64\n",
       "favorites                                        int64\n",
       "synopsis                                        object\n",
       "background                                     float64\n",
       "type_Movie                                       uint8\n",
       "type_Music                                       uint8\n",
       "type_ONA                                         uint8\n",
       "type_OVA                                         uint8\n",
       "type_Special                                     uint8\n",
       "type_TV                                          uint8\n",
       "source_Game                                      uint8\n",
       "source_Light novel                               uint8\n",
       "source_Manga                                     uint8\n",
       "source_Original                                  uint8\n",
       "source_Other                                     uint8\n",
       "source_Unknown                                   uint8\n",
       "from_day                                         int64\n",
       "from_month                                       int64\n",
       "from_year                                        int64\n",
       "from_dayofyear                                   int64\n",
       "from_dayofweek                                   int64\n",
       "to_day                                           int64\n",
       "to_month                                         int64\n",
       "to_year                                          int64\n",
       "to_dayofyear                                     int64\n",
       "to_dayofweek                                     int64\n",
       "duration_hour                                    int64\n",
       "duration_minutes                                 int64\n",
       "duration_seconds                                 int64\n",
       "duration_per_episode                             int64\n",
       "rating_G - All Ages                              uint8\n",
       "rating_None                                      uint8\n",
       "rating_PG - Children                             uint8\n",
       "rating_PG-13 - Teens 13 or older                 uint8\n",
       "rating_R - 17+ (violence & profanity)            uint8\n",
       "rating_R+ - Mild Nudity                          uint8\n",
       "year                                             int64\n",
       "season_Fall                                      int64\n",
       "season_Spring                                    int64\n",
       "season_Summer                                    int64\n",
       "season_Winter                                    int64\n",
       "broadcast_hour                                   int64\n",
       "broadcast_minute                                 int64\n",
       "broadcast_day_Fridays                            uint8\n",
       "broadcast_day_Mondays                            uint8\n",
       "broadcast_day_Saturdays                          uint8\n",
       "broadcast_day_Sundays                            uint8\n",
       "broadcast_day_Thursdays                          uint8\n",
       "broadcast_day_Tuesdays                           uint8\n",
       "broadcast_day_Wednesdays                         uint8\n",
       "broadcast_day_n                                  uint8\n",
       "producers_AT-X                                   int64\n",
       "producers_Aniplex                                int64\n",
       "producers_Bandai Visual                          int64\n",
       "producers_DAX Production                         int64\n",
       "producers_Dentsu                                 int64\n",
       "producers_Fuji TV                                int64\n",
       "producers_Genco                                  int64\n",
       "producers_Kadokawa Shoten                        int64\n",
       "producers_KlockWorx                              int64\n",
       "producers_Kodansha                               int64\n",
       "producers_Lantis                                 int64\n",
       "producers_Mainichi Broadcasting System           int64\n",
       "producers_Media Factory                          int64\n",
       "producers_Movic                                  int64\n",
       "producers_Others                                 int64\n",
       "producers_Pony Canyon                            int64\n",
       "producers_Shueisha                               int64\n",
       "producers_Sotsu                                  int64\n",
       "producers_Starchild Records                      int64\n",
       "producers_TBS                                    int64\n",
       "producers_TV Tokyo                               int64\n",
       "licensors_4Kids Entertainment                    int64\n",
       "licensors_ADV Films                              int64\n",
       "licensors_AnimEigo                               int64\n",
       "licensors_Aniplex of America                     int64\n",
       "licensors_Bandai Entertainment                   int64\n",
       "licensors_Central Park Media                     int64\n",
       "licensors_Crunchyroll                            int64\n",
       "licensors_Discotek Media                         int64\n",
       "licensors_Funimation                             int64\n",
       "licensors_GKIDS                                  int64\n",
       "licensors_Geneon Entertainment USA               int64\n",
       "licensors_Maiden Japan                           int64\n",
       "licensors_Manga Entertainment                    int64\n",
       "licensors_Media Blasters                         int64\n",
       "licensors_NIS America, Inc.                      int64\n",
       "licensors_NYAV Post                              int64\n",
       "licensors_Nozomi Entertainment                   int64\n",
       "licensors_Others                                 int64\n",
       "licensors_Sentai Filmworks                       int64\n",
       "licensors_The Pokemon Company International      int64\n",
       "licensors_Viz Media                              int64\n",
       "studios_A-1 Pictures                             int64\n",
       "studios_AIC                                      int64\n",
       "studios_Bones                                    int64\n",
       "studios_Gonzo                                    int64\n",
       "studios_J.C.Staff                                int64\n",
       "studios_Kyoto Animation                          int64\n",
       "studios_Madhouse                                 int64\n",
       "studios_Nippon Animation                         int64\n",
       "studios_OLM                                      int64\n",
       "studios_Others                                   int64\n",
       "studios_Production I.G                           int64\n",
       "studios_Satelight                                int64\n",
       "studios_Shaft                                    int64\n",
       "studios_Silver Link.                             int64\n",
       "studios_Studio Deen                              int64\n",
       "studios_Studio Pierrot                           int64\n",
       "studios_Sunrise                                  int64\n",
       "studios_TMS Entertainment                        int64\n",
       "studios_Tatsunoko Production                     int64\n",
       "studios_Toei Animation                           int64\n",
       "studios_Xebec                                    int64\n",
       "genres_Action                                    int64\n",
       "genres_Adventure                                 int64\n",
       "genres_Comedy                                    int64\n",
       "genres_Drama                                     int64\n",
       "genres_Ecchi                                     int64\n",
       "genres_Fantasy                                   int64\n",
       "genres_Historical                                int64\n",
       "genres_Magic                                     int64\n",
       "genres_Mecha                                     int64\n",
       "genres_Music                                     int64\n",
       "genres_Mystery                                   int64\n",
       "genres_Others                                    int64\n",
       "genres_Romance                                   int64\n",
       "genres_School                                    int64\n",
       "genres_Sci-Fi                                    int64\n",
       "genres_Seinen                                    int64\n",
       "genres_Shoujo                                    int64\n",
       "genres_Shounen                                   int64\n",
       "genres_Slice of Life                             int64\n",
       "genres_Super Power                               int64\n",
       "genres_Supernatural                              int64\n",
       "dtype: object"
      ]
     },
     "execution_count": 20,
     "metadata": {},
     "output_type": "execute_result"
    }
   ],
   "source": [
    "df.dtypes"
   ]
  },
  {
   "cell_type": "code",
   "execution_count": null,
   "id": "twelve-sierra",
   "metadata": {},
   "outputs": [],
   "source": []
  }
 ],
 "metadata": {
  "kernelspec": {
   "display_name": "python38",
   "language": "python",
   "name": "python38"
  },
  "language_info": {
   "codemirror_mode": {
    "name": "ipython",
    "version": 3
   },
   "file_extension": ".py",
   "mimetype": "text/x-python",
   "name": "python",
   "nbconvert_exporter": "python",
   "pygments_lexer": "ipython3",
   "version": "3.8.8"
  }
 },
 "nbformat": 4,
 "nbformat_minor": 5
}
