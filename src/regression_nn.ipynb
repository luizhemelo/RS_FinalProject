{
 "cells": [
  {
   "cell_type": "code",
   "execution_count": 120,
   "id": "initial-parallel",
   "metadata": {},
   "outputs": [
    {
     "name": "stdout",
     "output_type": "stream",
     "text": [
      "1.8.0\n"
     ]
    }
   ],
   "source": [
    "import torch\n",
    "import torch.nn.functional as F\n",
    "import torch.utils.data as Data\n",
    "from torch.autograd import Variable\n",
    "from sklearn import preprocessing\n",
    "from sklearn.model_selection import train_test_split\n",
    "\n",
    "import matplotlib.pyplot as plt\n",
    "%matplotlib inline\n",
    "\n",
    "import numpy as np\n",
    "import pandas as pd\n",
    "\n",
    "torch.manual_seed(1)\n",
    "print(torch.__version__)"
   ]
  },
  {
   "cell_type": "markdown",
   "id": "laden-start",
   "metadata": {},
   "source": [
    "#### Receiving input data"
   ]
  },
  {
   "cell_type": "code",
   "execution_count": 135,
   "id": "wanted-glossary",
   "metadata": {},
   "outputs": [],
   "source": [
    "npz = np.load('anime_embeddings_d128_i400_bs10_lr0.001.npz')\n",
    "matadata = pd.read_csv('anime_recommendation_data.csv', index_col=[0])\n",
    "features = pd.DataFrame(npz['embedding'])\n",
    "features = features.sample(frac=1)"
   ]
  },
  {
   "cell_type": "code",
   "execution_count": 136,
   "id": "horizontal-kazakhstan",
   "metadata": {},
   "outputs": [
    {
     "data": {
      "text/plain": [
       "['embedding', 'index', 'main_title']"
      ]
     },
     "execution_count": 136,
     "metadata": {},
     "output_type": "execute_result"
    }
   ],
   "source": [
    "npz.files"
   ]
  },
  {
   "cell_type": "code",
   "execution_count": 137,
   "id": "sufficient-computer",
   "metadata": {},
   "outputs": [
    {
     "name": "stdout",
     "output_type": "stream",
     "text": [
      "Input:  134 \n",
      "Output:  128\n"
     ]
    }
   ],
   "source": [
    "print('Input: ',matadata.shape[1],'\\nOutput: ',len(npz['embedding'][0]))"
   ]
  },
  {
   "cell_type": "markdown",
   "id": "atomic-surprise",
   "metadata": {},
   "source": [
    "#### Train/test split"
   ]
  },
  {
   "cell_type": "code",
   "execution_count": 148,
   "id": "damaged-monster",
   "metadata": {},
   "outputs": [],
   "source": [
    "train_size = int(len(y) * 0.8)"
   ]
  },
  {
   "cell_type": "code",
   "execution_count": 149,
   "id": "running-behalf",
   "metadata": {},
   "outputs": [],
   "source": [
    "# normalization\n",
    "min_max_scaler = preprocessing.MinMaxScaler()\n",
    "metadata = pd.DataFrame(min_max_scaler.fit_transform(matadata.values), columns=np.arange(matadata.shape[1]), index=matadata.index)"
   ]
  },
  {
   "cell_type": "code",
   "execution_count": 150,
   "id": "unique-angel",
   "metadata": {},
   "outputs": [],
   "source": [
    "X = []\n",
    "y = []\n",
    "count = 0\n",
    "for i in npz['index']:\n",
    "    if i in metadata.index:\n",
    "        X.append(metadata.loc[i,:])\n",
    "        y.append(features.loc[count,:])\n",
    "    count += 1"
   ]
  },
  {
   "cell_type": "code",
   "execution_count": 151,
   "id": "joint-relative",
   "metadata": {},
   "outputs": [
    {
     "name": "stdout",
     "output_type": "stream",
     "text": [
      "Input: ( 3415 , 134 )\n",
      "Output: ( 3415 , 128 )\n"
     ]
    }
   ],
   "source": [
    "print('Input: (', len(X), ',' , len(X[0]), ')\\nOutput: (', len(y), ',', len(y[0]), ')')\n",
    "# X,y = pd.DataFrame(X),pd.DataFrame(y)\n",
    "X_train, y_train, X_test, y_test = X[:train_size], y[:train_size], X[train_size:], y[train_size:]"
   ]
  },
  {
   "cell_type": "code",
   "execution_count": 170,
   "id": "possible-branch",
   "metadata": {},
   "outputs": [
    {
     "data": {
      "text/plain": [
       "tensor(0.0282, dtype=torch.float64)"
      ]
     },
     "execution_count": 170,
     "metadata": {},
     "output_type": "execute_result"
    }
   ],
   "source": [
    "# test loss function\n",
    "criterion = torch.nn.MSELoss()\n",
    "criterion(torch.from_numpy(y_train[0].values),torch.from_numpy(y_train[1].values))"
   ]
  },
  {
   "cell_type": "code",
   "execution_count": null,
   "id": "respiratory-donor",
   "metadata": {},
   "outputs": [],
   "source": []
  }
 ],
 "metadata": {
  "kernelspec": {
   "display_name": "python38",
   "language": "python",
   "name": "python38"
  },
  "language_info": {
   "codemirror_mode": {
    "name": "ipython",
    "version": 3
   },
   "file_extension": ".py",
   "mimetype": "text/x-python",
   "name": "python",
   "nbconvert_exporter": "python",
   "pygments_lexer": "ipython3",
   "version": "3.8.8"
  }
 },
 "nbformat": 4,
 "nbformat_minor": 5
}
